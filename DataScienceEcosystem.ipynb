{
 "cells": [
  {
   "cell_type": "markdown",
   "id": "9e4e5b24",
   "metadata": {},
   "source": [
    "# Data Science Tools and Ecosystem"
   ]
  },
  {
   "cell_type": "markdown",
   "id": "ab64f46f",
   "metadata": {},
   "source": [
    "In this notebook, Data Science Tools and Ecosystem are summarized."
   ]
  },
  {
   "cell_type": "markdown",
   "id": "cca273c6",
   "metadata": {},
   "source": [
    "Some of the popular languages that Data Scientists use are:\n",
    "1. Python \n",
    "2. R\n",
    "3. SQL (Structured Query Language)\n",
    "4. Julia\n",
    "5. Java\n",
    "5. Scala"
   ]
  },
  {
   "cell_type": "markdown",
   "id": "01cccb2e",
   "metadata": {},
   "source": [
    "Some of the commonly used libraries used by Data Scientists include:\n",
    "1. Pandas\n",
    "2. Numpy\n",
    "3. Matplotlib\n",
    "4. Scikit-learn\n",
    "5. TensorFlow\n",
    "6. PyTorch\n",
    "7. Seaborn"
   ]
  },
  {
   "cell_type": "markdown",
   "id": "0c9f01d6",
   "metadata": {},
   "source": [
    "| Data Science Tools     |\n",
    "| ---------------------- |\n",
    "| Jupyter Notebooks      |\n",
    "| RStudio                |\n",
    "| VS Code with Python    |"
   ]
  },
  {
   "cell_type": "markdown",
   "id": "cf4f8df7",
   "metadata": {},
   "source": [
    "### Below are a few examples of evaluating arithmetic expressions in Python"
   ]
  },
  {
   "cell_type": "code",
   "execution_count": 6,
   "id": "f40fdfcb",
   "metadata": {},
   "outputs": [
    {
     "name": "stdout",
     "output_type": "stream",
     "text": [
      "17\n"
     ]
    }
   ],
   "source": [
    "# This is a simple arithmetic expression to multiply then add integers.\n",
    "print((3 * 4) + 5)"
   ]
  },
  {
   "cell_type": "code",
   "execution_count": 7,
   "id": "cb9047cb",
   "metadata": {},
   "outputs": [
    {
     "name": "stdout",
     "output_type": "stream",
     "text": [
      "3.3333333333333335\n"
     ]
    }
   ],
   "source": [
    "# This will convert 200 minutes to hours by dividing by 60.\n",
    "print(200 / 60)"
   ]
  },
  {
   "cell_type": "markdown",
   "id": "94a28fbd",
   "metadata": {},
   "source": [
    "**Objectives:**\n",
    "\n",
    "- Introduce popular languages for Data Science.\n",
    "- Discuss commonly used data science libraries.\n",
    "- Create a Markdown cell with a table of Data Science tools.\n",
    "- Demonstrate arithmetic expression examples in Python."
   ]
  },
  {
   "cell_type": "markdown",
   "id": "5fdfe81f",
   "metadata": {},
   "source": [
    "## Author\n",
    "\n",
    "Karan Gurung\n"
   ]
  }
 ],
 "metadata": {
  "kernelspec": {
   "display_name": "Python 3 (ipykernel)",
   "language": "python",
   "name": "python3"
  },
  "language_info": {
   "codemirror_mode": {
    "name": "ipython",
    "version": 3
   },
   "file_extension": ".py",
   "mimetype": "text/x-python",
   "name": "python",
   "nbconvert_exporter": "python",
   "pygments_lexer": "ipython3",
   "version": "3.11.5"
  }
 },
 "nbformat": 4,
 "nbformat_minor": 5
}
